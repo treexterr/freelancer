{
 "cells": [
  {
   "cell_type": "code",
   "execution_count": 115,
   "metadata": {},
   "outputs": [],
   "source": [
    "import re\n",
    "import requests\n",
    "from requests import Session\n",
    "from bs4 import BeautifulSoup\n",
    "import json\n",
    "from fake_useragent import UserAgent\n",
    "import csv"
   ]
  },
  {
   "cell_type": "code",
   "execution_count": 4,
   "metadata": {},
   "outputs": [],
   "source": [
    "ua = UserAgent()"
   ]
  },
  {
   "cell_type": "code",
   "execution_count": 166,
   "metadata": {},
   "outputs": [],
   "source": [
    "response = requests.get('https://sadovod24.ru/zhenshchinam_uXj/odezhda_Me2/?ct=page-7', headers = {'User-Agent': ua.random})"
   ]
  },
  {
   "cell_type": "code",
   "execution_count": 167,
   "metadata": {},
   "outputs": [],
   "source": [
    "soup = BeautifulSoup(response.text)"
   ]
  },
  {
   "cell_type": "code",
   "execution_count": 168,
   "metadata": {},
   "outputs": [],
   "source": [
    "catalog_item_wrapp = soup.find_all(class_=\"catalog_item_wrapp\" )"
   ]
  },
  {
   "cell_type": "code",
   "execution_count": 169,
   "metadata": {},
   "outputs": [],
   "source": [
    "def get_size_list(item):\n",
    "    size_list =[]\n",
    "    for size in item.find_all('div', title=\"Выбрать\"):\n",
    "        size_list.append(size.text)\n",
    "    return size_list"
   ]
  },
  {
   "cell_type": "code",
   "execution_count": 170,
   "metadata": {},
   "outputs": [],
   "source": [
    "def parse_listpage(catalog_item_wrapp):\n",
    "    for item in catalog_item_wrapp:\n",
    "        try:\n",
    "            name = item.find(class_=\"item-title\").a.text\n",
    "            img = item.a.get('href')\n",
    "            description = item.find(class_=\"propertyValue\").text\n",
    "            price = item.find(class_=\"big_btn button to-cart\").get('data-value')\n",
    "            size_list = get_size_list(item)\n",
    "            url = 'https://sadovod24.ru/' +item.find(class_=\"item-title\").a.get('href')\n",
    "            product = [name, img, price, size_list, url]\n",
    "            write_csv(product)\n",
    "        except:\n",
    "            print(item)"
   ]
  },
  {
   "cell_type": "code",
   "execution_count": 171,
   "metadata": {},
   "outputs": [],
   "source": [
    "parse_listpage(catalog_item_wrapp)"
   ]
  },
  {
   "cell_type": "code",
   "execution_count": 116,
   "metadata": {},
   "outputs": [],
   "source": [
    "def write_csv(product):\n",
    "    with open(r'sadovod.csv', 'a', encoding='utf-8', newline='\\n') as file:\n",
    "        writer = csv.writer(file)\n",
    "        writer.writerow(product)"
   ]
  },
  {
   "cell_type": "code",
   "execution_count": 130,
   "metadata": {},
   "outputs": [
    {
     "data": {
      "text/plain": [
       "'Арт. 6473905'"
      ]
     },
     "execution_count": 130,
     "metadata": {},
     "output_type": "execute_result"
    }
   ],
   "source": [
    "catalog_item_wrapp[0].find(class_=\"item-title\").a.text"
   ]
  },
  {
   "cell_type": "code",
   "execution_count": null,
   "metadata": {},
   "outputs": [],
   "source": []
  }
 ],
 "metadata": {
  "kernelspec": {
   "display_name": "Python 3",
   "language": "python",
   "name": "python3"
  },
  "language_info": {
   "codemirror_mode": {
    "name": "ipython",
    "version": 3
   },
   "file_extension": ".py",
   "mimetype": "text/x-python",
   "name": "python",
   "nbconvert_exporter": "python",
   "pygments_lexer": "ipython3",
   "version": "3.7.6"
  }
 },
 "nbformat": 4,
 "nbformat_minor": 4
}

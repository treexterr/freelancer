{
 "cells": [
  {
   "cell_type": "code",
   "execution_count": 2,
   "metadata": {},
   "outputs": [],
   "source": [
    "import re\n",
    "import requests\n",
    "import csv\n",
    "from bs4 import BeautifulSoup\n",
    "from fake_useragent import UserAgent"
   ]
  },
  {
   "cell_type": "code",
   "execution_count": 4,
   "metadata": {},
   "outputs": [],
   "source": [
    "ua = UserAgent()"
   ]
  },
  {
   "cell_type": "code",
   "execution_count": 114,
   "metadata": {},
   "outputs": [],
   "source": [
    "URL = 'https://whiskyauctioneer.com/october-2020-auction?s=5fabc9055200c'"
   ]
  },
  {
   "cell_type": "code",
   "execution_count": 109,
   "metadata": {},
   "outputs": [],
   "source": [
    "def get_lots(page_url):\n",
    "    lots_list = []\n",
    "    response = requests.get(page_url, headers={'User-Agent': ua.chrome})\n",
    "    soup = BeautifulSoup(response.text)\n",
    "    for item in soup.find_all(class_=\"views-field views-field-title\"):\n",
    "        lots_list.append('https://whiskyauctioneer.com/' + item.a.get('href'))\n",
    "    return lots_list"
   ]
  },
  {
   "cell_type": "code",
   "execution_count": 116,
   "metadata": {},
   "outputs": [],
   "source": [
    "def get_lot_info(lot_url):\n",
    "\n",
    "    response = requests.get(lot_url, headers={'User-Agent': ua.chrome})\n",
    "    soup = BeautifulSoup(response.text)\n",
    "\n",
    "    lot_summary = []\n",
    "\n",
    "    try:\n",
    "        lot = soup.find(class_=\"left-heading\").text.split(' ')[1]\n",
    "    except:\n",
    "        lot = ''\n",
    "    try:\n",
    "        name = soup.h1.text\n",
    "    except:\n",
    "        name = ''\n",
    "    try:\n",
    "        price = soup.find(class_=\"uc-price\").text\n",
    "    except:\n",
    "        price = ''\n",
    "    try:\n",
    "        distillery = soup.find(class_=\"whiskyproduct\").find(\n",
    "            class_=\"distillery\").text\n",
    "    except:\n",
    "        distillery = ''\n",
    "    try:\n",
    "        age = soup.find(class_=\"whiskyproduct\").find(class_=\"age\").text\n",
    "    except:\n",
    "        age = ''\n",
    "    try:\n",
    "        vintage = soup.find(class_=\"whiskyproduct\").find(class_=\"region\").text\n",
    "    except:\n",
    "        vintage = ''\n",
    "    try:\n",
    "        bottler = soup.find(class_=\"whiskyproduct\").find_all(\n",
    "            class_=\"casktype\")[0].text\n",
    "    except:\n",
    "        bottler = ''\n",
    "    try:\n",
    "        casktyp = soup.find(class_=\"whiskyproduct\").find_all(\n",
    "            class_=\"casktype\")[1].text\n",
    "    except:\n",
    "        casktyp = ''\n",
    "    try:\n",
    "        region = soup.find(class_=\"whiskyproduct\").find(\n",
    "            text='Region:').parent.next_sibling.text\n",
    "    except:\n",
    "        region = ''\n",
    "    try:\n",
    "        strength = soup.find(class_=\"whiskyproduct\").find(\n",
    "            class_=\"strength\").text\n",
    "    except:\n",
    "        strength = ''\n",
    "    try:\n",
    "        bottlesize = soup.find(class_=\"whiskyproduct\").find(\n",
    "            class_=\"bottlesize\").text\n",
    "    except:\n",
    "        bottlesize = ''\n",
    "    try:\n",
    "        bottlestatus = soup.find(class_=\"whiskyproduct\").find(\n",
    "            class_=\"bottlestatus\").text\n",
    "    except:\n",
    "        bottlestatus = ''\n",
    "    try:\n",
    "        image = soup.find(typeof=\"foaf:Image\").get('src')\n",
    "    except:\n",
    "        image = ''\n",
    "    try:\n",
    "        description = soup.find(class_=\"rightvbn\").text.replace('\\xa0', ' ')\n",
    "    except:\n",
    "        description = ''\n",
    "\n",
    "    lot_summary = [lot, name, price, distillery, age, vintage, bottler, casktyp,\n",
    "                   region, strength, bottlesize, bottlestatus, image, description, lot_summary]\n",
    "    return lot_summary"
   ]
  },
  {
   "cell_type": "code",
   "execution_count": 117,
   "metadata": {},
   "outputs": [],
   "source": [
    "n = 0\n",
    "for i in range(235):\n",
    "    n += 1\n",
    "    page_url = URL + f'&page={n}'\n",
    "    lots_list = get_lots(page_url)\n",
    "    for lot in lots_list:\n",
    "        \n",
    "        info = get_lot_info(lot)\n",
    "        write_csv(info)"
   ]
  },
  {
   "cell_type": "code",
   "execution_count": 113,
   "metadata": {},
   "outputs": [],
   "source": [
    "def write_csv(info):\n",
    "    with open(r'whiskey.csv', 'a', encoding='utf-8', newline='\\n') as file:\n",
    "        writer = csv.writer(file)\n",
    "        writer.writerow(info)"
   ]
  },
  {
   "cell_type": "code",
   "execution_count": null,
   "metadata": {},
   "outputs": [],
   "source": []
  }
 ],
 "metadata": {
  "kernelspec": {
   "display_name": "Python 3",
   "language": "python",
   "name": "python3"
  },
  "language_info": {
   "codemirror_mode": {
    "name": "ipython",
    "version": 3
   },
   "file_extension": ".py",
   "mimetype": "text/x-python",
   "name": "python",
   "nbconvert_exporter": "python",
   "pygments_lexer": "ipython3",
   "version": "3.7.6"
  }
 },
 "nbformat": 4,
 "nbformat_minor": 4
}

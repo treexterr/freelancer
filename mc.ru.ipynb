{
 "cells": [
  {
   "cell_type": "code",
   "execution_count": 1,
   "metadata": {},
   "outputs": [],
   "source": [
    "import re\n",
    "import requests\n",
    "import csv\n",
    "from bs4 import BeautifulSoup\n",
    "from fake_useragent import UserAgent"
   ]
  },
  {
   "cell_type": "code",
   "execution_count": 2,
   "metadata": {},
   "outputs": [],
   "source": [
    "ua = UserAgent()"
   ]
  },
  {
   "cell_type": "code",
   "execution_count": 96,
   "metadata": {},
   "outputs": [],
   "source": [
    "HOST = 'https://mc.ru/'\n",
    "URL = 'https://mc.ru/metalloprokat/stal_listovaya_g_k'\n",
    "PAGE = '/PageN/'"
   ]
  },
  {
   "cell_type": "code",
   "execution_count": 4,
   "metadata": {},
   "outputs": [],
   "source": [
    "def get_soup(url):\n",
    "    response = requests.get(url)\n",
    "    soup = BeautifulSoup(response.text)\n",
    "    return soup"
   ]
  },
  {
   "cell_type": "code",
   "execution_count": 81,
   "metadata": {},
   "outputs": [],
   "source": [
    "soup = get_soup(URL)"
   ]
  },
  {
   "cell_type": "code",
   "execution_count": 75,
   "metadata": {},
   "outputs": [],
   "source": [
    "def get_description(soup):\n",
    "    for tag in soup.find_all('meta'):\n",
    "        try:\n",
    "            if tag['name'] == 'description':\n",
    "                description = tag['content']\n",
    "                return description\n",
    "        except:\n",
    "            pass"
   ]
  },
  {
   "cell_type": "code",
   "execution_count": 104,
   "metadata": {},
   "outputs": [],
   "source": [
    "def get_parameters(soup, url):\n",
    "    name = soup.h1.text\n",
    "    category = soup.find(class_=\"UrlSpeed\").text.replace('\\xa0>\\xa0', '/').strip()\n",
    "    price1 = soup.find(class_=\"catalogTable allbase\").tbody.find_all(class_=\"price\")[0].text\n",
    "    price2 = soup.find(class_=\"catalogTable allbase\").tbody.find_all(class_=\"price\")[1].text\n",
    "    price3 = soup.find(class_=\"catalogTable allbase\").tbody.find_all(class_=\"price\")[2].text\n",
    "    h1 = soup.h1.text\n",
    "    seo_title = soup.title.text\n",
    "    seo_description = get_description(soup)\n",
    "    return [name, category, price1, price2, price3, h1, seo_title, seo_description, url]"
   ]
  },
  {
   "cell_type": "code",
   "execution_count": 79,
   "metadata": {},
   "outputs": [],
   "source": [
    "def write_csv(info):\n",
    "    with open(r'C:/Users/Эпсилон/Desktop/mc.csv', 'a', encoding='utf-8', newline='\\n') as file:\n",
    "        writer = csv.writer(file)\n",
    "        writer.writerow(info)"
   ]
  },
  {
   "cell_type": "code",
   "execution_count": 88,
   "metadata": {},
   "outputs": [],
   "source": [
    "def get_units(URL):\n",
    "    soup = get_soup(URL)\n",
    "    link_list = soup.find(class_=\"catalogTable\").find_all('a')\n",
    "    return link_list"
   ]
  },
  {
   "cell_type": "code",
   "execution_count": 109,
   "metadata": {},
   "outputs": [],
   "source": [
    "link_list = get_units(URL)\n",
    "for link in link_list:\n",
    "    url = HOST + link.attrs['href']\n",
    "    soup = get_soup(url)\n",
    "    params = get_parameters(soup, url)\n",
    "    write_csv(params)\n",
    "for i in range(2, 12):\n",
    "    url = URL + PAGE + str(i)\n",
    "    link_list = get_units(url)\n",
    "    for link in link_list:\n",
    "        url = HOST + link.attrs['href']\n",
    "        soup = get_soup(url)\n",
    "        params = get_parameters(soup, url)\n",
    "        write_csv(params)"
   ]
  },
  {
   "cell_type": "code",
   "execution_count": null,
   "metadata": {},
   "outputs": [],
   "source": []
  }
 ],
 "metadata": {
  "kernelspec": {
   "display_name": "Python 3",
   "language": "python",
   "name": "python3"
  },
  "language_info": {
   "codemirror_mode": {
    "name": "ipython",
    "version": 3
   },
   "file_extension": ".py",
   "mimetype": "text/x-python",
   "name": "python",
   "nbconvert_exporter": "python",
   "pygments_lexer": "ipython3",
   "version": "3.7.6"
  }
 },
 "nbformat": 4,
 "nbformat_minor": 4
}

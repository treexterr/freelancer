{
 "cells": [
  {
   "cell_type": "code",
   "execution_count": 18,
   "metadata": {},
   "outputs": [],
   "source": [
    "import re\n",
    "import requests\n",
    "import csv\n",
    "from bs4 import BeautifulSoup\n",
    "from fake_useragent import UserAgent\n",
    "from urllib.parse import urlparse"
   ]
  },
  {
   "cell_type": "code",
   "execution_count": 2,
   "metadata": {},
   "outputs": [],
   "source": [
    "ua = UserAgent()"
   ]
  },
  {
   "cell_type": "code",
   "execution_count": 34,
   "metadata": {},
   "outputs": [],
   "source": [
    "URL = 'https://prom.ua/search?search_term=%D0%B3%D0%B8%D1%82%D0%B0%D1%80%D0%B0&category=180509'\n",
    "HEADERS = {'Host': urlparse(URL).netloc, 'User-Agent': ua.chrome,\n",
    "           'Referer': 'https://prom.ua/search?search_term=%D0%B3%D0%B8%D1%82%D0%B0%D1%80%D0%B0&category=180509',\n",
    "           'X-Requested-With': 'XMLHttpRequest', \n",
    "           'Content-Encoding': 'gzip',\n",
    "           'Access-Control-Allow-Headers': 'X-CSRFToken,X-PromUserID,Content-Type,X-Requested-With,X-Image-Hashes,X-LANGUAGE,X-DisableSafariCORSChec'}"
   ]
  },
  {
   "cell_type": "code",
   "execution_count": 35,
   "metadata": {},
   "outputs": [],
   "source": [
    "def get_shops():\n",
    "    shop_list = []\n",
    "    response = requests.get(URL, headers={'User-Agent': ua.chrome})\n",
    "    soup = BeautifulSoup(response.text)\n",
    "    for item in soup.find_all(class_=\"views-field views-field-title\"):\n",
    "        shop_list.append('https://whiskyauctioneer.com/' + item.a.get('href'))\n",
    "    return shop_list"
   ]
  },
  {
   "cell_type": "code",
   "execution_count": 50,
   "metadata": {},
   "outputs": [],
   "source": [
    "session = requests.Session()\n",
    "response = requests.post('https://prom.ua/graphql', headers=HEADERS)"
   ]
  },
  {
   "cell_type": "code",
   "execution_count": 51,
   "metadata": {},
   "outputs": [
    {
     "data": {
      "text/plain": [
       "'{}'"
      ]
     },
     "execution_count": 51,
     "metadata": {},
     "output_type": "execute_result"
    }
   ],
   "source": [
    "response.text"
   ]
  },
  {
   "cell_type": "code",
   "execution_count": null,
   "metadata": {},
   "outputs": [],
   "source": []
  }
 ],
 "metadata": {
  "kernelspec": {
   "display_name": "Python 3",
   "language": "python",
   "name": "python3"
  },
  "language_info": {
   "codemirror_mode": {
    "name": "ipython",
    "version": 3
   },
   "file_extension": ".py",
   "mimetype": "text/x-python",
   "name": "python",
   "nbconvert_exporter": "python",
   "pygments_lexer": "ipython3",
   "version": "3.7.6"
  }
 },
 "nbformat": 4,
 "nbformat_minor": 4
}
